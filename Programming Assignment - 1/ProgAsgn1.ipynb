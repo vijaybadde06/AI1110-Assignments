{
 "cells": [
  {
   "cell_type": "markdown",
   "metadata": {},
   "source": [
    "# 1.Flipping the Odds: Biased Decisions with a Fair Coin"
   ]
  },
  {
   "cell_type": "code",
   "execution_count": null,
   "metadata": {},
   "outputs": [],
   "source": [
    "#Question 1\n",
    "import pandas as pd\n",
    "#Here goes the code for the first question.\n"
   ]
  },
  {
   "cell_type": "markdown",
   "metadata": {},
   "source": [
    "# 2.Analyzing Data\n",
    "### (a) Titanic Dataset:\n",
    "Given that the person survived, what is the probability that his ticket Class is two?\n",
    "\n",
    "Let $U=$ set of all passengers, $S=$ set of surviving passengers, and $T=$ set of passengers with ticket class 2. \n",
    "\n",
    "We first import the given csv file into a DataFrame, __titanic_df__, representing $U$. Then we count the number of passengers we have the details of, equivalent to $n(U)$.\n",
    "\n",
    "Then, we find the selection of these passengers that survived, and place their data in a different DataFrame, named __survivors_df__. This represents the set $S$.\n",
    "\n",
    "We count the number of surviving passengers $n(S)$ and the probability of survival $P(S)$, and of these survivors, we find the number of passengers with ticket class 2 $n(T \\cap S)$, and their probability $P(T\\cap S)$.\n",
    "\n",
    "We now apply the formula for conditional probability $P(T|S)$, as given by $$P(T|S) = \\frac{P(T\\cap S)}{P(S)}$$"
   ]
  },
  {
   "cell_type": "code",
   "execution_count": null,
   "metadata": {},
   "outputs": [],
   "source": [
    "# Question 2, subquestion (a)\n",
    "import pandas as pd\n",
    "\n",
    "#Import the Titanic-Survival dataset, and store it in a DataFrame\n",
    "titanic_df = pd.read_csv('Titanic-Survival.csv')\n",
    "\n",
    "#Count total number of passengers\n",
    "count_passengers = titanic_df.shape[0]\n",
    "\n",
    "#Filter the DataFrame to only include passengers that survived i.e., where the 'Survived' column is 1\n",
    "survivors_df = titanic_df[titanic_df['Survived'] == 1] \n",
    "\n",
    "#Count the total number of survivors, and the probability of surviving\n",
    "total_survivors = survivors_df.shape[0]\n",
    "probability_survival = total_survivors / count_passengers\n",
    "\n",
    "#Count the number of survivors whose passenger class was 2, and their probability\n",
    "count_tclass2_survived = survivors_df[survivors_df['Ticket class']==2].shape[0] \n",
    "probability_both_tclass2_survived = count_tclass2_survived / count_passengers\n",
    "\n",
    "#Now, calculate the probability that, given a passenger survived, they were in Pclass 2\n",
    "chance_tclass2_given_survivor = probability_both_tclass2_survived / probability_survival\n",
    "\n",
    "print(f\"Given that a person survived, the probability that their ticket class is 2: {chance_tclass2_given_survivor:.6f}\")"
   ]
  },
  {
   "cell_type": "markdown",
   "metadata": {},
   "source": [
    "### (b) Height-Weight Dataset:\n",
    "Number of people with a weight greater than 170 whose index is lesser than 4? (Index : 0 - Extremely Weak, 1 - Weak, 2 - Normal, 3 - Overweight, 4 - Obesity, 5 - Extreme Obesity)\n",
    "\n",
    "Let $U=$ set of all people here, $W=$ set of people with a weight over $170$ (possibly pounds), and $O=$ set people with an index under 4 i.e. overweight or below.\n",
    "\n",
    "We first import the given csv file into a DataFrame, __height_weight_df__, representing $U$.\n",
    "\n",
    "We are required to find $n(W\\cap O)$. We can use '$\\And$' to count the number of people satisfying both conditions simultaneously.\n",
    "\n",
    "Since the question strictly mentions, _lesser than_, the maximum index we can consider is $3$, and the maximum weight in these indices is 115, which is why, the final answer is $zero$."
   ]
  },
  {
   "cell_type": "code",
   "execution_count": null,
   "metadata": {},
   "outputs": [],
   "source": [
    "#Question 2, subquestion (b)\n",
    "import pandas as pd\n",
    "\n",
    "#import the Height-Weight dataset, and store it in a DataFrame\n",
    "height_weight_df = pd.read_csv('Height-Weight.csv')\n",
    "\n",
    "#count the number of people satisfying both conditions simultaneously\n",
    "count = height_weight_df[(height_weight_df['Weight'] > 170) & (height_weight_df['Index'] < 4)].shape[0]\n",
    "\n",
    "#Print the result\n",
    "print(f\"Number of people who weigh more than 170 and have an index less than 4: {count}\")\n"
   ]
  }
 ],
 "metadata": {
  "kernelspec": {
   "display_name": "Python 3",
   "language": "python",
   "name": "python3"
  },
  "language_info": {
   "codemirror_mode": {
    "name": "ipython",
    "version": 3
   },
   "file_extension": ".py",
   "mimetype": "text/x-python",
   "name": "python",
   "nbconvert_exporter": "python",
   "pygments_lexer": "ipython3",
   "version": "3.13.1"
  }
 },
 "nbformat": 4,
 "nbformat_minor": 2
}
