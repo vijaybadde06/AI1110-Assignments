{
 "cells": [
  {
   "cell_type": "markdown",
   "metadata": {},
   "source": [
    "### Importing Libraries"
   ]
  },
  {
   "cell_type": "code",
   "execution_count": 5,
   "metadata": {},
   "outputs": [],
   "source": [
    "import pandas as pd\n",
    "import random\n",
    "import matplotlib.pyplot as plt"
   ]
  },
  {
   "cell_type": "markdown",
   "metadata": {},
   "source": [
    "# 1.Flipping the Odds: Biased Decisions with a Fair Coin"
   ]
  },
  {
   "cell_type": "markdown",
   "metadata": {},
   "source": [
    "### Function flip coin  \n",
    "Returns a boolean value (either True or False)\n",
    "### How does it works?\n",
    "We randomly generate a number between 0 and 1, if it is less than 0.5 then we return True(Simulating Heads) else we return False(Simulating Tails)"
   ]
  },
  {
   "cell_type": "code",
   "execution_count": 6,
   "metadata": {},
   "outputs": [
    {
     "name": "stdout",
     "output_type": "stream",
     "text": [
      "Probablity of heads:  0.4998\n"
     ]
    }
   ],
   "source": [
    "def flip_coin() -> bool:\n",
    "    toss = random.random()\n",
    "    if(toss < 0.5):\n",
    "        return True #heads\n",
    "    else:\n",
    "        return False #tails\n",
    "#The statement below is just to check if the function works well!\n",
    "trials = 50000\n",
    "count = 0\n",
    "for i in range(trials): \n",
    "    if(flip_coin()):\n",
    "        count+=1\n",
    "print('Probablity of heads: ',count/trials)  \n"
   ]
  },
  {
   "cell_type": "markdown",
   "metadata": {},
   "source": [
    "### Function biased_coin: \n",
    "Takes the function and float p as arguments and returns a boolean value\n",
    "### What are we doing?\n",
    "1. We consider the interval [0,1] and we roll the fair coin continously until a specific condition is met(we will talk about the condition in upcoming points).\n",
    "2. If heads comes up we consider the left half of the interval and if tails comes up we consider the right half of the interval.\n",
    "3. We repeat the above process until the whole interval on the one side of float 'p'(our desired biased probablity).\n",
    "4. If the final interval lies to left of p, we return true(heads) and if the final interval lies to the right of p, we return false(tails)."
   ]
  },
  {
   "cell_type": "code",
   "execution_count": 7,
   "metadata": {},
   "outputs": [
    {
     "name": "stdout",
     "output_type": "stream",
     "text": [
      "Probablity of Heads(Movies):  0.1236\n"
     ]
    }
   ],
   "source": [
    "def biased_coin(fair_coin_func: callable, p: float) -> bool:\n",
    "    lower, upper = 0.0, 1.0\n",
    "    while True:\n",
    "        mid = (lower + upper) / 2\n",
    "        if fair_coin_func():\n",
    "            upper = mid  # Heads take left interval\n",
    "        else:\n",
    "            lower = mid  # Tails  take right interval\n",
    "        \n",
    "        if upper <= p:\n",
    "            return True\n",
    "        if lower > p:\n",
    "            return False\n",
    "#code below is just to check if the function biased_coin works well            \n",
    "count = 0\n",
    "p = 1/8\n",
    "for i in range (trials):\n",
    "    if(biased_coin(flip_coin, p)):\n",
    "        count+=1\n",
    "print('Probablity of Heads(Movies): ',count/trials)"
   ]
  },
  {
   "cell_type": "markdown",
   "metadata": {},
   "source": [
    "### Collecting data for PMF of fair coin"
   ]
  },
  {
   "cell_type": "code",
   "execution_count": 8,
   "metadata": {},
   "outputs": [
    {
     "name": "stdout",
     "output_type": "stream",
     "text": [
      "{'Heads': 0.50172, 'Tails': 0.49828}\n"
     ]
    }
   ],
   "source": [
    "fair_results = [flip_coin() for _ in range(trials)]\n",
    "fair_heads_count = sum(fair_results)\n",
    "fair_tails_count = trials - fair_heads_count\n",
    "fair_pmf = {\n",
    "    'Heads': fair_heads_count / trials,\n",
    "    'Tails': fair_tails_count / trials\n",
    "}\n",
    "\n",
    "print(fair_pmf)"
   ]
  },
  {
   "cell_type": "markdown",
   "metadata": {},
   "source": [
    "### Collecting data for PMF of biased coin"
   ]
  },
  {
   "cell_type": "code",
   "execution_count": 9,
   "metadata": {},
   "outputs": [
    {
     "name": "stdout",
     "output_type": "stream",
     "text": [
      "{'Heads': 0.1206, 'Tails': 0.8794}\n"
     ]
    }
   ],
   "source": [
    "biased_results = [biased_coin(flip_coin, p) for _ in range(trials)]\n",
    "biased_heads_count = sum(biased_results)\n",
    "biased_tails_count = trials - biased_heads_count\n",
    "biased_pmf = {\n",
    "    'Heads': biased_heads_count / trials,\n",
    "    'Tails': biased_tails_count / trials\n",
    "}\n",
    "print(biased_pmf)"
   ]
  },
  {
   "cell_type": "markdown",
   "metadata": {},
   "source": [
    "### Displaying the Plots"
   ]
  },
  {
   "cell_type": "code",
   "execution_count": 10,
   "metadata": {},
   "outputs": [
    {
     "data": {
      "text/plain": [
       "Text(0, 0.5, 'Probability')"
      ]
     },
     "execution_count": 10,
     "metadata": {},
     "output_type": "execute_result"
    },
    {
     "data": {
      "image/png": "[encoded data removed]",
      "text/plain": [
       "<Figure size 1000x500 with 2 Axes>"
      ]
     },
     "metadata": {},
     "output_type": "display_data"
    }
   ],
   "source": [
    "fig, (ax1, ax2) = plt.subplots(1, 2, figsize=(10, 5))\n",
    "\n",
    "ax1.bar(['Heads', 'Tails'], [fair_pmf['Heads'], fair_pmf['Tails']], color=['blue', 'orange'])\n",
    "ax1.set_title('Fair Coin PMF')\n",
    "ax1.set_ylabel('Probability')\n",
    "\n",
    "ax2.bar(['Movies', 'Video Games'], [biased_pmf['Heads'], biased_pmf['Tails']], color=['blue', 'orange'])\n",
    "ax2.set_title(f'Biased Coin PMF (p={p})')\n",
    "ax2.set_ylabel('Probability')"
   ]
  },
  {
   "cell_type": "markdown",
   "metadata": {},
   "source": [
    "# 2.Analyzing Data"
   ]
  },
  {
   "cell_type": "markdown",
   "metadata": {},
   "source": [
    "### (a) Titanic Dataset: Given that the person survived, what is the probability that his ticket Class is two?"
   ]
  },
  {
   "cell_type": "markdown",
   "metadata": {},
   "source": [
    "Let \n",
    "$U=$ set of all passengers, $S=$ set of surviving passengers, and $T=$ set of passengers with ticket class 2.\n",
    "\n",
    "1. Importing the given csv file into a DataFrame, __titanic_df__, representing $U$.\n",
    "2. Counting the number of passengers we have the details of, equivalent to $n(U)$.\n",
    "3. Finding the selection of these passengers that survived, and place their data in a different DataFrame, named __survivors_df__. This represents the set $S$."
   ]
  },
  {
   "cell_type": "code",
   "execution_count": 11,
   "metadata": {},
   "outputs": [],
   "source": [
    "titanic_df = pd.read_csv('Titanic-Dataset.csv')\n",
    "count_passengers = titanic_df.shape[0] #total passengers\n",
    "survivors_df = titanic_df[titanic_df['Survived'] == 1] #passengers that survived"
   ]
  },
  {
   "cell_type": "markdown",
   "metadata": {},
   "source": [
    "4. We count the number of surviving passengers $n(S)$ and the probability of survival $P(S)$"
   ]
  },
  {
   "cell_type": "code",
   "execution_count": 12,
   "metadata": {},
   "outputs": [],
   "source": [
    "total_survivors = survivors_df.shape[0]\n",
    "probability_survival = total_survivors / count_passengers"
   ]
  },
  {
   "cell_type": "markdown",
   "metadata": {},
   "source": [
    "5. Out of these surviors we then find out number of passengers with ticket class 2 $n(T \\cap S)$, and their probability $P(T\\cap S)$."
   ]
  },
  {
   "cell_type": "code",
   "execution_count": 13,
   "metadata": {},
   "outputs": [],
   "source": [
    "count_tclass2_survived = survivors_df[survivors_df['Ticket class']==2].shape[0] #passengers whose class was 2 \n",
    "probability_both_tclass2_survived = count_tclass2_survived / count_passengers"
   ]
  },
  {
   "cell_type": "markdown",
   "metadata": {},
   "source": [
    "6. Lastly we apply the formula for conditional probability $P(T|S)$, as given by $$P(T|S) = \\frac{P(T\\cap S)}{P(S)}$$"
   ]
  },
  {
   "cell_type": "code",
   "execution_count": 14,
   "metadata": {},
   "outputs": [
    {
     "name": "stdout",
     "output_type": "stream",
     "text": [
      "Given that a person survived, the probability that their ticket class is 2: 0.286207\n"
     ]
    }
   ],
   "source": [
    "chance_tclass2_given_survivor = probability_both_tclass2_survived / probability_survival\n",
    "\n",
    "#Print the result\n",
    "print(f\"Given that a person survived, the probability that their ticket class is 2: {chance_tclass2_given_survivor:.6f}\")"
   ]
  },
  {
   "cell_type": "markdown",
   "metadata": {},
   "source": [
    "### (b) Height-Weight Dataset:\n",
    "Number of people with a weight greater than 170 whose index is lesser than 4? (Index : 0 - Extremely Weak, 1 - Weak, 2 - Normal, 3 - Overweight, 4 - Obesity, 5 - Extreme Obesity)"
   ]
  },
  {
   "cell_type": "markdown",
   "metadata": {},
   "source": [
    "Let $U=$ set of all people here, $W=$ set of people with a weight over $170$ (possibly pounds), and $O=$ set people with an index under 4 i.e. overweight or below.\n",
    "\n",
    "We first import the given csv file into a DataFrame, __height_weight_df__, representing $U$."
   ]
  },
  {
   "cell_type": "code",
   "execution_count": 18,
   "metadata": {},
   "outputs": [],
   "source": [
    "#import the Height-Weight dataset, and store it in a DataFrame\n",
    "height_weight_df = pd.read_csv('Height-Weight.csv')"
   ]
  },
  {
   "cell_type": "markdown",
   "metadata": {},
   "source": [
    "We are required to find $n(W\\cap O)$. We can use '$\\And$' to count the number of people satisfying both conditions simultaneously."
   ]
  },
  {
   "cell_type": "code",
   "execution_count": 19,
   "metadata": {},
   "outputs": [],
   "source": [
    "count = height_weight_df[(height_weight_df['Weight'] > 170) & (height_weight_df['Index'] < 4)].shape[0]"
   ]
  },
  {
   "cell_type": "markdown",
   "metadata": {},
   "source": [
    "Since the question strictly mentions, _lesser than_, the maximum index we can consider is $3$, and the maximum weight in these indices is 115, which is why, the final answer is $zero$."
   ]
  },
  {
   "cell_type": "code",
   "execution_count": 17,
   "metadata": {},
   "outputs": [
    {
     "name": "stdout",
     "output_type": "stream",
     "text": [
      "Number of people who weigh more than 170 and have an index less than 4: 0\n"
     ]
    }
   ],
   "source": [
    "print(f\"Number of people who weigh more than 170 and have an index less than 4: {count}\")"
   ]
  }
 ],
 "metadata": {
  "kernelspec": {
   "display_name": "Python 3",
   "language": "python",
   "name": "python3"
  },
  "language_info": {
   "codemirror_mode": {
    "name": "ipython",
    "version": 3
   },
   "file_extension": ".py",
   "mimetype": "text/x-python",
   "name": "python",
   "nbconvert_exporter": "python",
   "pygments_lexer": "ipython3",
   "version": "3.13.0"
  }
 },
 "nbformat": 4,
 "nbformat_minor": 4
}
